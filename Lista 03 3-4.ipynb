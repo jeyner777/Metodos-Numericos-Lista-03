{
 "cells": [
  {
   "cell_type": "markdown",
   "id": "eccb886c",
   "metadata": {},
   "source": [
    "Jeyner Arango\n",
    "\n",
    "Oscar Méndez 20402\n",
    "\n",
    "# Lista 03"
   ]
  },
  {
   "cell_type": "code",
   "execution_count": 4,
   "id": "f7cb8c5f",
   "metadata": {},
   "outputs": [],
   "source": [
    "import numpy as np\n",
    "import pandas as pd"
   ]
  },
  {
   "cell_type": "markdown",
   "id": "cc75c9dc",
   "metadata": {},
   "source": [
    "## Ejercicio 3"
   ]
  },
  {
   "cell_type": "markdown",
   "id": "e846b330",
   "metadata": {},
   "source": [
    "Primero generamos dos matrices dispersas de forma aleatoria"
   ]
  },
  {
   "cell_type": "code",
   "execution_count": 5,
   "id": "5a7cf245",
   "metadata": {},
   "outputs": [
    {
     "name": "stdout",
     "output_type": "stream",
     "text": [
      "A = [[  0 -50   0 ...   0   0   0]\n",
      " [  0   0   0 ...   0   0   0]\n",
      " [  0   0   0 ...   0   0   0]\n",
      " ...\n",
      " [  0   0   0 ...   0   0   0]\n",
      " [  0   0   0 ...   0   0   0]\n",
      " [ 83   0 -72 ...   0   0   0]]\n",
      "\n",
      "B = [[  0   0   0 ...   0   0   0]\n",
      " [  0   0   0 ... -36   0   0]\n",
      " [  0   0   0 ...   0   0   0]\n",
      " ...\n",
      " [  0   0 -35 ...   0   0   0]\n",
      " [  0   0   0 ...   0   0   0]\n",
      " [-40   0   0 ...   0   0   0]]\n"
     ]
    }
   ],
   "source": [
    "m = 3500\n",
    "n = 2800\n",
    "\n",
    "a = np.random.randint(-100, 100, size=m*n) * np.random.choice([0, 1], p=[0.95, 0.05], size=m*n)\n",
    "A = a.reshape((m, n))\n",
    "\n",
    "print(\"A =\", A)\n",
    "np.save(\"data/A.npy\", A)\n",
    "\n",
    "b = np.random.randint(-100, 100, size=m*n) * np.random.choice([0, 1], p=[0.95, 0.05], size=m*n)\n",
    "B = b.reshape((m, n))\n",
    "\n",
    "print(\"\\nB =\", B)\n",
    "np.save(\"data/B.npy\", B)"
   ]
  },
  {
   "cell_type": "code",
   "execution_count": 6,
   "id": "c24412ce",
   "metadata": {},
   "outputs": [],
   "source": [
    "def sparse_to_coo(A, destination_path):\n",
    "    m, n = A.shape\n",
    "    \n",
    "    rows = []\n",
    "    columns = []\n",
    "    values = []\n",
    "    \n",
    "    for i in range(m):\n",
    "        for j in range(n):\n",
    "            if A[i, j] > 0:\n",
    "                rows.append(i)\n",
    "                columns.append(j)\n",
    "                values.append(A[i, j])\n",
    "    coo = pd.DataFrame({\n",
    "        'row': rows,\n",
    "        'column': columns,\n",
    "        'value': values\n",
    "    })\n",
    "    \n",
    "    print(\"\\nFormato COO:\")\n",
    "    print(coo)\n",
    "    coo.to_csv(destination_path, index=False)"
   ]
  },
  {
   "cell_type": "code",
   "execution_count": 7,
   "id": "5829a25a",
   "metadata": {},
   "outputs": [],
   "source": [
    "def sparse_to_csr(A, destination_path):\n",
    "    m, n = A.shape\n",
    "\n",
    "    data = []\n",
    "    indices = []\n",
    "    indptr = [0]\n",
    "\n",
    "    for i in range(m):\n",
    "        row_data = A[i, A[i, :] != 0]\n",
    "        row_indices = np.where(A[i, :] != 0)[0]\n",
    "\n",
    "        data.extend(row_data)\n",
    "        indices.extend(row_indices)\n",
    "        indptr.append(len(data))\n",
    "    \n",
    "    indptr.pop()\n",
    "    indptr.extend([np.nan] * (len(data) - len(indptr)))\n",
    "\n",
    "    csr = pd.DataFrame({\n",
    "        'data': data,\n",
    "        'indices': indices,\n",
    "        'indptr': indptr\n",
    "    })\n",
    "\n",
    "    print(\"\\nFormato CSR:\")\n",
    "    print(csr)\n",
    "    csr.to_csv(destination_path, index=False)"
   ]
  },
  {
   "cell_type": "code",
   "execution_count": 8,
   "id": "790cb75e",
   "metadata": {},
   "outputs": [],
   "source": [
    "def sparse_to_csc(A, destination_path):\n",
    "    m, n = A.shape\n",
    "\n",
    "    data = []\n",
    "    indices = []\n",
    "    indptr = [0]\n",
    "\n",
    "    for j in range(n):\n",
    "        column_data = A[A[:, j] != 0, j]\n",
    "        column_indices = np.where(A[:, j] != 0)[0]\n",
    "\n",
    "        data.extend(column_data)\n",
    "        indices.extend(column_indices)\n",
    "        indptr.append(len(data))\n",
    "    \n",
    "    indptr.pop()\n",
    "    indptr.extend([np.nan] * (len(data) - len(indptr)))\n",
    "    \n",
    "    csc = pd.DataFrame({\n",
    "        'data': data,\n",
    "        'indices': indices,\n",
    "        'indptr': indptr\n",
    "    })\n",
    "\n",
    "    print(\"\\nFormato CSC:\")\n",
    "    print(csc)\n",
    "    csc.to_csv(destination_path, index=False)"
   ]
  },
  {
   "cell_type": "code",
   "execution_count": 9,
   "id": "b26af1a0",
   "metadata": {},
   "outputs": [],
   "source": [
    "def convert_matrix(source_path, destination_path, method):\n",
    "    A = np.load(source_path)\n",
    "    print('Matriz Original:')\n",
    "    print(A)\n",
    "    \n",
    "    if method == 'csr':\n",
    "        sparse_to_csr(A, destination_path)\n",
    "    elif method == 'csc':\n",
    "        sparse_to_csc(A, destination_path)\n",
    "    else:\n",
    "        sparse_to_coo(A, destination_path)"
   ]
  },
  {
   "cell_type": "markdown",
   "id": "a9537304",
   "metadata": {},
   "source": [
    "### Formato COO"
   ]
  },
  {
   "cell_type": "code",
   "execution_count": 10,
   "id": "ae5036d2",
   "metadata": {
    "scrolled": true
   },
   "outputs": [
    {
     "name": "stdout",
     "output_type": "stream",
     "text": [
      "Matriz Original:\n",
      "[[  0 -50   0 ...   0   0   0]\n",
      " [  0   0   0 ...   0   0   0]\n",
      " [  0   0   0 ...   0   0   0]\n",
      " ...\n",
      " [  0   0   0 ...   0   0   0]\n",
      " [  0   0   0 ...   0   0   0]\n",
      " [ 83   0 -72 ...   0   0   0]]\n",
      "\n",
      "Formato COO:\n",
      "         row  column  value\n",
      "0          0      86     89\n",
      "1          0     104     56\n",
      "2          0     246      9\n",
      "3          0     263     84\n",
      "4          0     283     82\n",
      "...      ...     ...    ...\n",
      "242076  3499    2667     75\n",
      "242077  3499    2721      8\n",
      "242078  3499    2732     87\n",
      "242079  3499    2784     49\n",
      "242080  3499    2796     53\n",
      "\n",
      "[242081 rows x 3 columns]\n"
     ]
    }
   ],
   "source": [
    "convert_matrix('data/A.npy', 'data/A_coo.csv', 'coo')"
   ]
  },
  {
   "cell_type": "code",
   "execution_count": 11,
   "id": "226ab751",
   "metadata": {},
   "outputs": [
    {
     "name": "stdout",
     "output_type": "stream",
     "text": [
      "Matriz Original:\n",
      "[[  0   0   0 ...   0   0   0]\n",
      " [  0   0   0 ... -36   0   0]\n",
      " [  0   0   0 ...   0   0   0]\n",
      " ...\n",
      " [  0   0 -35 ...   0   0   0]\n",
      " [  0   0   0 ...   0   0   0]\n",
      " [-40   0   0 ...   0   0   0]]\n",
      "\n",
      "Formato COO:\n",
      "         row  column  value\n",
      "0          0      72     59\n",
      "1          0      79     12\n",
      "2          0     150     33\n",
      "3          0     188     50\n",
      "4          0     193     43\n",
      "...      ...     ...    ...\n",
      "242369  3499    2581     38\n",
      "242370  3499    2635     13\n",
      "242371  3499    2701     36\n",
      "242372  3499    2763     52\n",
      "242373  3499    2789     80\n",
      "\n",
      "[242374 rows x 3 columns]\n"
     ]
    }
   ],
   "source": [
    "convert_matrix('data/B.npy', 'data/B_coo.csv', 'coo')"
   ]
  },
  {
   "cell_type": "markdown",
   "id": "1fc54d40",
   "metadata": {},
   "source": [
    "### Formato CSR"
   ]
  },
  {
   "cell_type": "code",
   "execution_count": 12,
   "id": "7aa3c87e",
   "metadata": {},
   "outputs": [
    {
     "name": "stdout",
     "output_type": "stream",
     "text": [
      "Matriz Original:\n",
      "[[  0 -50   0 ...   0   0   0]\n",
      " [  0   0   0 ...   0   0   0]\n",
      " [  0   0   0 ...   0   0   0]\n",
      " ...\n",
      " [  0   0   0 ...   0   0   0]\n",
      " [  0   0   0 ...   0   0   0]\n",
      " [ 83   0 -72 ...   0   0   0]]\n",
      "\n",
      "Formato CSR:\n",
      "        data  indices  indptr\n",
      "0        -50        1     0.0\n",
      "1         -4       62   137.0\n",
      "2        -22       77   260.0\n",
      "3         89       86   398.0\n",
      "4        -88       88   534.0\n",
      "...      ...      ...     ...\n",
      "486929   -13     2745     NaN\n",
      "486930   -62     2753     NaN\n",
      "486931   -38     2771     NaN\n",
      "486932    49     2784     NaN\n",
      "486933    53     2796     NaN\n",
      "\n",
      "[486934 rows x 3 columns]\n"
     ]
    }
   ],
   "source": [
    "convert_matrix('data/A.npy', 'data/A_csr.csv', 'csr')"
   ]
  },
  {
   "cell_type": "code",
   "execution_count": 13,
   "id": "7aa6493b",
   "metadata": {},
   "outputs": [
    {
     "name": "stdout",
     "output_type": "stream",
     "text": [
      "Matriz Original:\n",
      "[[  0   0   0 ...   0   0   0]\n",
      " [  0   0   0 ... -36   0   0]\n",
      " [  0   0   0 ...   0   0   0]\n",
      " ...\n",
      " [  0   0 -35 ...   0   0   0]\n",
      " [  0   0   0 ...   0   0   0]\n",
      " [-40   0   0 ...   0   0   0]]\n",
      "\n",
      "Formato CSR:\n",
      "        data  indices  indptr\n",
      "0        -99       59     0.0\n",
      "1         59       72   148.0\n",
      "2         12       79   291.0\n",
      "3        -69       90   443.0\n",
      "4        -28       96   585.0\n",
      "...      ...      ...     ...\n",
      "486938   -61     2651     NaN\n",
      "486939   -13     2689     NaN\n",
      "486940    36     2701     NaN\n",
      "486941    52     2763     NaN\n",
      "486942    80     2789     NaN\n",
      "\n",
      "[486943 rows x 3 columns]\n"
     ]
    }
   ],
   "source": [
    "convert_matrix('data/B.npy', 'data/B_csr.csv', 'csr')"
   ]
  },
  {
   "cell_type": "markdown",
   "id": "471d7c5d",
   "metadata": {},
   "source": [
    "### Formato CSC"
   ]
  },
  {
   "cell_type": "code",
   "execution_count": 14,
   "id": "0ec5a80a",
   "metadata": {},
   "outputs": [
    {
     "name": "stdout",
     "output_type": "stream",
     "text": [
      "Matriz Original:\n",
      "[[  0 -50   0 ...   0   0   0]\n",
      " [  0   0   0 ...   0   0   0]\n",
      " [  0   0   0 ...   0   0   0]\n",
      " ...\n",
      " [  0   0   0 ...   0   0   0]\n",
      " [  0   0   0 ...   0   0   0]\n",
      " [ 83   0 -72 ...   0   0   0]]\n",
      "\n",
      "Formato CSC:\n",
      "        data  indices  indptr\n",
      "0         26        9     0.0\n",
      "1         31       16   164.0\n",
      "2         53       23   333.0\n",
      "3        -84       31   495.0\n",
      "4        -67       70   679.0\n",
      "...      ...      ...     ...\n",
      "486929    92     3366     NaN\n",
      "486930    90     3377     NaN\n",
      "486931    13     3415     NaN\n",
      "486932   -54     3420     NaN\n",
      "486933    57     3425     NaN\n",
      "\n",
      "[486934 rows x 3 columns]\n"
     ]
    }
   ],
   "source": [
    "convert_matrix('data/A.npy', 'data/A_csc.csv', 'csc')"
   ]
  },
  {
   "cell_type": "code",
   "execution_count": 15,
   "id": "b1558ac2",
   "metadata": {},
   "outputs": [
    {
     "name": "stdout",
     "output_type": "stream",
     "text": [
      "Matriz Original:\n",
      "[[  0   0   0 ...   0   0   0]\n",
      " [  0   0   0 ... -36   0   0]\n",
      " [  0   0   0 ...   0   0   0]\n",
      " ...\n",
      " [  0   0 -35 ...   0   0   0]\n",
      " [  0   0   0 ...   0   0   0]\n",
      " [-40   0   0 ...   0   0   0]]\n",
      "\n",
      "Formato CSC:\n",
      "        data  indices  indptr\n",
      "0        -97       10     0.0\n",
      "1         81       34   158.0\n",
      "2       -100       49   306.0\n",
      "3         75      122   461.0\n",
      "4        -16      143   615.0\n",
      "...      ...      ...     ...\n",
      "486938    -5     3416     NaN\n",
      "486939    47     3430     NaN\n",
      "486940    99     3459     NaN\n",
      "486941   -50     3462     NaN\n",
      "486942    11     3470     NaN\n",
      "\n",
      "[486943 rows x 3 columns]\n"
     ]
    }
   ],
   "source": [
    "convert_matrix('data/B.npy', 'data/B_csc.csv', 'csc')"
   ]
  },
  {
   "cell_type": "markdown",
   "id": "4838391f",
   "metadata": {},
   "source": [
    "## Ejercicio 4"
   ]
  },
  {
   "cell_type": "code",
   "execution_count": 16,
   "id": "6b1cc9c5",
   "metadata": {},
   "outputs": [],
   "source": [
    "def matrix_addition_coo(A, B):\n",
    "    return pd.concat([A_coo, B_coo]).groupby(['row', 'column'], as_index=False)[['value']].sum()"
   ]
  },
  {
   "cell_type": "code",
   "execution_count": 17,
   "id": "fff2d37b",
   "metadata": {},
   "outputs": [],
   "source": [
    "def reverse_coo(coo, shape):\n",
    "    A = np.zeros(shape)\n",
    "    \n",
    "    for idx, row in coo.iterrows():\n",
    "        A[row['row'], row['column']] = row['value']\n",
    "    \n",
    "    return(A)"
   ]
  },
  {
   "cell_type": "code",
   "execution_count": 18,
   "id": "3d5896ed",
   "metadata": {},
   "outputs": [],
   "source": [
    "A_coo = pd.read_csv('data/A_coo.csv')\n",
    "B_coo = pd.read_csv('data/B_coo.csv')"
   ]
  },
  {
   "cell_type": "code",
   "execution_count": 19,
   "id": "e3a71688",
   "metadata": {},
   "outputs": [
    {
     "name": "stdout",
     "output_type": "stream",
     "text": [
      "Suma en formato COO:\n",
      "         row  column  value\n",
      "0          0      72     59\n",
      "1          0      79     12\n",
      "2          0      86     89\n",
      "3          0     104     56\n",
      "4          0     150     33\n",
      "...      ...     ...    ...\n",
      "478410  3499    2732     87\n",
      "478411  3499    2763     52\n",
      "478412  3499    2784     49\n",
      "478413  3499    2789     80\n",
      "478414  3499    2796     53\n",
      "\n",
      "[478415 rows x 3 columns]\n",
      "\n",
      "Suma en formato Disperso:\n",
      "[[ 0.  0.  0. ...  0.  0.  0.]\n",
      " [ 0.  0.  0. ...  0.  0.  0.]\n",
      " [ 0.  0.  0. ...  0.  0.  0.]\n",
      " ...\n",
      " [ 0.  0.  0. ...  0.  0.  0.]\n",
      " [ 0.  0.  0. ...  0.  0.  0.]\n",
      " [83.  0.  0. ...  0.  0.  0.]]\n"
     ]
    }
   ],
   "source": [
    "A_B_coo = matrix_addition_coo(A_coo, B_coo)\n",
    "print(\"Suma en formato COO:\")\n",
    "print(A_B_coo)\n",
    "A_B = reverse_coo(A_B_coo, (m, n))\n",
    "print(\"\\nSuma en formato Disperso:\")\n",
    "print(A_B)"
   ]
  }
 ],
 "metadata": {
  "kernelspec": {
   "display_name": "Python 3 (ipykernel)",
   "language": "python",
   "name": "python3"
  },
  "language_info": {
   "codemirror_mode": {
    "name": "ipython",
    "version": 3
   },
   "file_extension": ".py",
   "mimetype": "text/x-python",
   "name": "python",
   "nbconvert_exporter": "python",
   "pygments_lexer": "ipython3",
   "version": "3.11.4"
  }
 },
 "nbformat": 4,
 "nbformat_minor": 5
}
